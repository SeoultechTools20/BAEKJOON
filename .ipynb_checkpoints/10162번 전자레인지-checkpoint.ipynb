{
 "cells": [
  {
   "cell_type": "code",
   "execution_count": 44,
   "id": "97fd6346",
   "metadata": {},
   "outputs": [
    {
     "name": "stdout",
     "output_type": "stream",
     "text": [
      "660\n",
      "2 1 0 "
     ]
    }
   ],
   "source": [
    "T = int(input())\n",
    "\n",
    "A = 300\n",
    "B = 60\n",
    "C = 10\n",
    "\n",
    "A_count = 0\n",
    "B_count = 0\n",
    "C_count = 0\n",
    "\n",
    "ans = 0\n",
    "\n",
    "while True:\n",
    "    if T >= A:\n",
    "        T = T-300\n",
    "        A_count += 1\n",
    "    elif T >= B:\n",
    "        T = T - 60\n",
    "        B_count += 1\n",
    "    elif T >= 10:\n",
    "        T = T - 10\n",
    "        C_count += 1\n",
    "    elif T == 0:\n",
    "        break\n",
    "    else:\n",
    "        ans = -1\n",
    "        print(ans)\n",
    "        break\n",
    "        \n",
    "if ans != -1:\n",
    "    ans = [A_count, B_count, C_count]\n",
    "    for i in range(len(ans)):\n",
    "        print(ans[i], end =' ')"
   ]
  }
 ],
 "metadata": {
  "kernelspec": {
   "display_name": "Python 3 (ipykernel)",
   "language": "python",
   "name": "python3"
  },
  "language_info": {
   "codemirror_mode": {
    "name": "ipython",
    "version": 3
   },
   "file_extension": ".py",
   "mimetype": "text/x-python",
   "name": "python",
   "nbconvert_exporter": "python",
   "pygments_lexer": "ipython3",
   "version": "3.9.7"
  }
 },
 "nbformat": 4,
 "nbformat_minor": 5
}
